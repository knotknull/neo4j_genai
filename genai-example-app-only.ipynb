{
 "cells": [
  {
   "cell_type": "markdown",
   "metadata": {
    "collapsed": false,
    "id": "I8F3XGz_dyXc"
   },
   "source": [
    "# Neo4j Generative AI Workshop Example Application\n",
    "[![Open In Colab](https://colab.research.google.com/assets/colab-badge.svg)](https://colab.research.google.com/github/neo4j-product-examples/genai-workshop/blob/main/genai-example-app-only.ipynb)\n",
    "\n",
    "__This notebook is a copy of `genai-workshop.ipynb` that contains only the final section: the example application for the LLM content generator. This notebook assumes you have already run `genai-workshop.ipynb`.__\n",
    "\n",
    "__Please note: There is no need to run this notebook for the workshop.  It exists for demo purposes only.__"
   ]
  },
  {
   "cell_type": "markdown",
   "metadata": {
    "collapsed": false,
    "id": "cmjr1dz8dyXd"
   },
   "source": [
    "## Setup"
   ]
  },
  {
   "cell_type": "markdown",
   "metadata": {
    "collapsed": false,
    "id": "8yxD7Ah0ZACB"
   },
   "source": [
    "### Some Logistics\n",
    "1. Make a copy of this notebook in Colab by [clicking here](https://colab.research.google.com/github/neo4j-product-examples/genai-workshop/blob/main/genai-workshop.ipynb).\n",
    "2. Run the pip install below to get the necessary dependencies.  this can take a while. Then run the following cell to import relevant libraries\n"
   ]
  },
  {
   "cell_type": "code",
   "metadata": {
    "id": "yY1XylsiZACB",
    "pycharm": {
     "name": "#%%capture\n"
    },
    "ExecuteTime": {
     "end_time": "2024-06-25T15:14:38.579011Z",
     "start_time": "2024-06-25T15:14:36.822880Z"
    }
   },
   "source": [
    "%%capture\n",
    "%pip install langchain langchain-openai langchain_community openai tiktoken python-dotenv gradio neo4j"
   ],
   "outputs": [],
   "execution_count": 1
  },
  {
   "cell_type": "code",
   "metadata": {
    "id": "7psF1otOdyXe",
    "ExecuteTime": {
     "end_time": "2024-06-25T15:19:01.690663Z",
     "start_time": "2024-06-25T15:19:01.687080Z"
    }
   },
   "source": [
    "import pandas as pd\n",
    "import numpy as np\n",
    "from dotenv import load_dotenv\n",
    "import os\n",
    "from langchain_openai import OpenAIEmbeddings, ChatOpenAI\n",
    "from langchain.vectorstores.neo4j_vector import Neo4jVector\n",
    "from langchain.graphs import Neo4jGraph\n",
    "from langchain.prompts import PromptTemplate\n",
    "from langchain.schema import StrOutputParser\n",
    "from langchain.schema.runnable import RunnableLambda\n",
    "import gradio as gr\n",
    "\n",
    "pd.set_option('display.max_rows', 10)\n",
    "pd.set_option('display.max_colwidth', 500)\n",
    "pd.set_option('display.width', 0)"
   ],
   "outputs": [],
   "execution_count": 8
  },
  {
   "cell_type": "markdown",
   "metadata": {
    "collapsed": false,
    "id": "_ar1ZFhPdyXe"
   },
   "source": [
    "### Setup Credentials and Environment Variables\n",
    "\n",
    "There are two things you need here.\n",
    "1. Start a blank [Neo4j Sandbox](https://sandbox.neo4j.com/). Get your URI and password and plug them in below.  Do not change the Neo4j username.\n",
    "2. Get your OpenAI API key.  You can use [this one](https://docs.google.com/document/d/19Lqjd0MqRs088KUVnd23ZrVU9G0OAg-53U72VrFwwms/edit) if you do not have one already.\n",
    "\n",
    "To make this easy, you can write the credentials and env variables directly into the below cell."
   ]
  },
  {
   "cell_type": "code",
   "metadata": {
    "id": "BQ9s0ZWhekd8",
    "ExecuteTime": {
     "end_time": "2024-06-25T15:19:03.245545Z",
     "start_time": "2024-06-25T15:19:03.243207Z"
    }
   },
   "source": [
    "import os\n",
    "\n",
    "# Neo4j\n",
    "NEO4J_URI = 'bolt://34.202.229.218:7687' #change this\n",
    "NEO4J_PASSWORD = 'terminologies-fire-planet' #change this\n",
    "NEO4J_USERNAME = 'neo4j'\n",
    "AURA_DS = False\n",
    "\n",
    "# AI\n",
    "LLM = 'gpt-4o'\n",
    "\n",
    "# OpenAI - Required when using OpenAI models\n",
    "os.environ['OPENAI_API_KEY'] = 'sk-...' #change this\n",
    "OPENAI_API_KEY = os.getenv('OPENAI_API_KEY')"
   ],
   "outputs": [],
   "execution_count": 9
  },
  {
   "cell_type": "code",
   "metadata": {
    "id": "o-98NuINdyXe",
    "ExecuteTime": {
     "end_time": "2024-06-25T15:19:28.737198Z",
     "start_time": "2024-06-25T15:19:28.731702Z"
    }
   },
   "source": [
    "# You can skip this cell if not using a ws.env file - alternative to above\n",
    "from dotenv import load_dotenv\n",
    "import os\n",
    "\n",
    "if os.path.exists('ws.env'):\n",
    "    load_dotenv('ws.env', override=True)\n",
    "\n",
    "    # Neo4j\n",
    "    NEO4J_URI = os.getenv('NEO4J_URI')\n",
    "    NEO4J_USERNAME = os.getenv('NEO4J_USERNAME')\n",
    "    NEO4J_PASSWORD = os.getenv('NEO4J_PASSWORD')\n",
    "    AURA_DS = eval(os.getenv('AURA_DS').title())\n",
    "\n",
    "    # AI\n",
    "    LLM = 'gpt-4o'\n",
    "    OPENAI_API_KEY = os.getenv('OPENAI_API_KEY')"
   ],
   "outputs": [],
   "execution_count": 14
  },
  {
   "cell_type": "markdown",
   "metadata": {
    "collapsed": false,
    "id": "90E9HGu4dyXq"
   },
   "source": [
    "## LLM For Generating Grounded Content\n",
    "\n",
    "Let's use an LLM to automatically generate content for targeted marketing campaigns grounded with our knowledge graph using the above tools.\n",
    "Here is a quick example for generating promotional messages, but you can create all sorts of content with this!\n",
    "\n",
    "For our first message, let's consider a scenario where a user recently searched for products, but perhaps didn't commit to a purchase yet. We now want to send a message to promote relevant products."
   ]
  },
  {
   "cell_type": "code",
   "metadata": {
    "id": "P-06mvW-A59U",
    "ExecuteTime": {
     "end_time": "2024-06-25T15:19:29.806163Z",
     "start_time": "2024-06-25T15:19:29.771996Z"
    }
   },
   "source": [
    "from langchain_openai import OpenAIEmbeddings\n",
    "\n",
    "embedding_model = OpenAIEmbeddings()\n",
    "embedding_dimension = 1536"
   ],
   "outputs": [],
   "execution_count": 15
  },
  {
   "cell_type": "code",
   "metadata": {
    "id": "JI9LVEdKekeH",
    "ExecuteTime": {
     "end_time": "2024-06-25T15:19:30.427489Z",
     "start_time": "2024-06-25T15:19:30.385238Z"
    }
   },
   "source": [
    "# Import relevant libraries\n",
    "from langchain.prompts import PromptTemplate\n",
    "from langchain_openai import ChatOpenAI\n",
    "from langchain.schema import StrOutputParser\n",
    "\n",
    "#Instantiate LLM\n",
    "llm = ChatOpenAI(temperature=0, model_name=LLM, streaming=True)"
   ],
   "outputs": [],
   "execution_count": 16
  },
  {
   "cell_type": "markdown",
   "metadata": {
    "collapsed": false,
    "id": "8I6JesV0ekeH"
   },
   "source": [
    "### Create Knowledge Graph Stores for Retrieval\n",
    "\n",
    "To ground our content generation, we need to define retrievers to pull information from our knowledge graph.  Let's make two stores:\n",
    "1. Personalized Search Retriever (`kg_personalized_search`): Based on recent customer searches and purchase history, pull relevant products.\n",
    "2. Recommendations retriever (`kg_recommendations_app`): Based on our Graph ML, what else can we recommend to them to pair with the relevant products?\n"
   ]
  },
  {
   "cell_type": "code",
   "metadata": {
    "id": "WLBBVRXwdyXq",
    "ExecuteTime": {
     "end_time": "2024-06-25T15:22:18.508903Z",
     "start_time": "2024-06-25T15:22:16.817976Z"
    }
   },
   "source": [
    "# We will use a mock URL for our sources in the metadata\n",
    "kg_personalized_search_store = Neo4jVector.from_existing_index(\n",
    "    embedding=embedding_model,\n",
    "    url=NEO4J_URI,\n",
    "    username=NEO4J_USERNAME,\n",
    "    password=NEO4J_PASSWORD,\n",
    "    index_name='product_text_embeddings',\n",
    "    retrieval_query=\"\"\"\n",
    "        WITH node AS product, score AS searchScore\n",
    "\n",
    "        OPTIONAL MATCH(product)<-[:VARIANT_OF]-(:Article)<-[:PURCHASED]-(:Customer)\n",
    "        -[:PURCHASED]->(a:Article)<-[:PURCHASED]-(:Customer {customerId: $customerId})\n",
    "        WITH count(a) AS purchaseScore, product, searchScore\n",
    "        RETURN product.text + '\\nurl: ' + product.url  AS text,\n",
    "            (1.0+purchaseScore)*searchScore AS score,\n",
    "            {source: product.url} AS metadata\n",
    "        ORDER BY purchaseScore DESC, searchScore DESC LIMIT 10\n",
    "    \"\"\"\n",
    ")\n",
    "\n",
    "# This will be a function so we can change per customer id\n",
    "def kg_personalized_search(search_prompt, customer_id, k=100):\n",
    "    docs = kg_personalized_search_store.similarity_search(search_prompt, k, params={'customerId': customer_id})\n",
    "    return \"\\n\\n\".join([d.page_content for d in docs])\n",
    "\n",
    "# Use the same personalized recommendations as above but with a smaller limit\n",
    "kg = Neo4jGraph(url=NEO4J_URI, username=NEO4J_USERNAME, password=NEO4J_PASSWORD)\n",
    "def kg_recommendations_app(customer_id, k=30):\n",
    "    res = kg.query(\"\"\"\n",
    "    MATCH(:Customer {customerId:$customerId})-[:PURCHASED]->(:Article)\n",
    "    -[r:CUSTOMERS_ALSO_LIKE]->(:Article)-[:VARIANT_OF]->(product)\n",
    "    RETURN product.text + '\\nurl: ' + product.url   AS text,\n",
    "        sum(r.score) AS recommenderScore\n",
    "    ORDER BY recommenderScore DESC LIMIT $k\n",
    "    \"\"\", params={'customerId': customer_id, 'k':k})\n",
    "\n",
    "    return \"\\n\\n\".join([d['text'] for d in res])"
   ],
   "outputs": [],
   "execution_count": 23
  },
  {
   "cell_type": "markdown",
   "metadata": {
    "collapsed": false,
    "id": "i7sCt8roekeH"
   },
   "source": [
    "### Prompt Engineering\n",
    "\n",
    "Now let's define our prompt. We will accept multiple parameters and provide detailed instructions to the LLM to condition the response based of retrieved data, customer interests, and time of year.\n"
   ]
  },
  {
   "cell_type": "code",
   "metadata": {
    "id": "aUAROR6aekeI",
    "ExecuteTime": {
     "end_time": "2024-06-25T15:22:19.979575Z",
     "start_time": "2024-06-25T15:22:19.976711Z"
    }
   },
   "source": [
    "prompt = PromptTemplate.from_template('You are a personal assistant named Sally '\n",
    "'for a fashion, home, and beauty company called HRM.'\n",
    "'write an engaging email to {customerName}, one of your customers, '\n",
    "'to promote and summarize products relevant for them given: '\n",
    "'- The current season / time of year: {timeOfYear}'\n",
    "'- Recent searches/interests: {customerInterests}'\n",
    "'Please only mention the products listed below. '\n",
    "'Do not come up with or add any new products to the list.'\n",
    "'Each product comes with an https `url` field. '\n",
    "'Make sure to provide that https url with descriptive name text '\n",
    "'in markdown for each product.'\n",
    "'''\n",
    "\n",
    "# RelevantProducts:\n",
    "These are products from the HRM store the customer may be interested in based\n",
    "on their recent searches/interests: {customerInterests}\n",
    "{searchProds}\n",
    "\n",
    "# Customer May Also Be Interested In the following\n",
    "The below candidates are recommended based on the shared purchase patterns of\n",
    "other customers in the HRM database.\n",
    "Select the best 4 to 5 product subset from the context that best match the\n",
    "time of year: {timeOfYear} and to pair with the RelevantProducts above.\n",
    "For example, even if scarfs are listed here, they may not be appropriate for a\n",
    "summer time of year so best not to include those.\n",
    "{recProds}\n",
    "''')"
   ],
   "outputs": [],
   "execution_count": 24
  },
  {
   "cell_type": "markdown",
   "metadata": {
    "collapsed": false,
    "id": "TgFbaUt6ekeI"
   },
   "source": [
    "### Create a Chain\n",
    "\n",
    "Now let's put a chain together that will leverage the retrievers, prompt, and LLM model. This is where Langchain shines, putting RAG together in a simple way.\n",
    "\n",
    "In addition to the personalized search and recommendations context, we will allow for some other parameters.\n",
    "\n",
    "1. `timeOfYear`: The time of year as a date, season, month, etc. so the LLM can tailor the language appropriately.\n",
    "2. `customerName`: Ordinarily, this can be pulled from the DB, but it has been scrubbed to maintain anonymity, so we will provide our own name here.\n",
    "\n",
    "You can potentially add other creative parameters here to help the LLM write relevant messages.\n"
   ]
  },
  {
   "cell_type": "code",
   "metadata": {
    "id": "nUpih07QdyXr",
    "ExecuteTime": {
     "end_time": "2024-06-25T15:22:21.862317Z",
     "start_time": "2024-06-25T15:22:21.857513Z"
    }
   },
   "source": [
    "chain = ({'searchProds': (lambda x:kg_personalized_search(x['customerInterests'], x['customerId'])),\n",
    "          'recProds': (lambda x:kg_recommendations_app(x['customerId'])),\n",
    "          'customerName': lambda x:x['customerName'],\n",
    "          'timeOfYear': lambda x:x['timeOfYear'],\n",
    "          \"customerInterests\":  lambda x:x['customerInterests']}\n",
    "         | prompt\n",
    "         | llm\n",
    "         | StrOutputParser())"
   ],
   "outputs": [],
   "execution_count": 25
  },
  {
   "cell_type": "markdown",
   "metadata": {
    "collapsed": false,
    "id": "JjbUGH6WekeI"
   },
   "source": [
    "### Example Runs"
   ]
  },
  {
   "cell_type": "code",
   "metadata": {
    "id": "EEdx6aTSA59V",
    "ExecuteTime": {
     "end_time": "2024-06-25T15:22:24.414241Z",
     "start_time": "2024-06-25T15:22:24.410766Z"
    }
   },
   "source": [
    "# example inputs\n",
    "CUSTOMER_ID = \"daae10780ecd14990ea190a1e9917da33fe96cd8cfa5e80b67b4600171aa77e0\"\n",
    "search_prompt = 'denim jeans'"
   ],
   "outputs": [],
   "execution_count": 26
  },
  {
   "cell_type": "code",
   "metadata": {
    "id": "CCX-ut4LA59V",
    "ExecuteTime": {
     "end_time": "2024-06-25T15:22:24.810085Z",
     "start_time": "2024-06-25T15:22:24.806807Z"
    }
   },
   "source": "#print(chain.invoke({'searchPrompt':search_prompt, 'customerId':CUSTOMER_ID, 'customerName':'Alex Smith', 'timeOfYear':'Feb, 2024'}))",
   "outputs": [],
   "execution_count": 27
  },
  {
   "cell_type": "markdown",
   "metadata": {
    "id": "Vy3fKoC1E0CC"
   },
   "source": [
    "#### Inspecting the Prompt Sent to the LLM\n",
    "In the above run, the LLM should only be using results from our Neo4j database to populate recommendations. Run the below cell to see the final prompt that was sent to the LLM."
   ]
  },
  {
   "cell_type": "code",
   "metadata": {
    "colab": {
     "base_uri": "https://localhost:8080/"
    },
    "id": "Z7-yDDUaD6FD",
    "outputId": "2266a8c8-6a46-4103-da3a-9807edb6a1f4",
    "ExecuteTime": {
     "end_time": "2024-06-25T15:22:26.664378Z",
     "start_time": "2024-06-25T15:22:26.245954Z"
    }
   },
   "source": [
    "def format_final_prompt(x):\n",
    "    return f'''=== Prompt to send to LLM ===\n",
    "   {x.to_string()}\n",
    "   === End Prompt ===\n",
    "   '''\n",
    "chain_print_prompt = ({'searchProds': (lambda x:kg_personalized_search(x['customerInterests'], x['customerId'])),\n",
    "                       'recProds': (lambda x:kg_recommendations_app(x['customerId'])),\n",
    "                       'customerName': lambda x:x['customerName'],\n",
    "                       'timeOfYear': lambda x:x['timeOfYear'],\n",
    "                       \"customerInterests\":  lambda x:x['customerInterests']}\n",
    "                      | prompt\n",
    "                      | format_final_prompt\n",
    "                      | StrOutputParser())\n",
    "\n",
    "print( chain_print_prompt.invoke({\n",
    "    'customerInterests':search_prompt,\n",
    "    'customerId':CUSTOMER_ID,\n",
    "    'customerName':'Alex Smith',\n",
    "    'timeOfYear':'Feb, 2024'}))"
   ],
   "outputs": [
    {
     "name": "stdout",
     "output_type": "stream",
     "text": [
      "=== Prompt to send to LLM ===\n",
      "   You are a personal assistant named Sally for a fashion, home, and beauty company called HRM.write an engaging email to Alex Smith, one of your customers, to promote and summarize products relevant for them given: - The current season / time of year: Feb, 2024- Recent searches/interests: denim jeansPlease only mention the products listed below. Do not come up with or add any new products to the list.Each product comes with an https `url` field. Make sure to provide that https url with descriptive name text in markdown for each product.\n",
      "\n",
      "# RelevantProducts:\n",
      "These are products from the HRM store the customer may be interested in based\n",
      "on their recent searches/interests: denim jeans\n",
      "##Product\n",
      "Name: Rachel HW Denim TRS\n",
      "Type: Trousers\n",
      "Group: Garment Lower body\n",
      "Garment Type: Trousers\n",
      "Description: 5-pocket, ankle-length jeans in washed stretch denim in a relaxed fit with a high waist, zip fly and button and straight legs with cut-off, raw-edge hems.\n",
      "url: https://representative-domain/product/670698\n",
      "\n",
      "##Product\n",
      "Name: Jade HW Skinny Denim TRS\n",
      "Type: Trousers\n",
      "Group: Garment Lower body\n",
      "Garment Type: Trousers\n",
      "Description: High-waisted jeans in washed superstretch denim with a zip fly and button, fake front pockets, real back pockets and super-skinny legs.\n",
      "url: https://representative-domain/product/706016\n",
      "\n",
      "##Product\n",
      "Name: Bono NW slim denim\n",
      "Type: Trousers\n",
      "Group: Garment Lower body\n",
      "Garment Type: Trousers\n",
      "Description: 5-pocket, ankle-length jeans in washed slightly stretch denim with a high waist, zip fly and button and tapered legs.\n",
      "url: https://representative-domain/product/777038\n",
      "\n",
      "##Product\n",
      "Name: Perrie Slim Mom Denim TRS\n",
      "Type: Trousers\n",
      "Group: Garment Lower body\n",
      "Garment Type: Trousers\n",
      "Description: 5-pocket, ankle-length jeans in washed, sturdy cotton denim with a high waist, button fly and slim, straight legs with raw-edge hems.\n",
      "url: https://representative-domain/product/448509\n",
      "\n",
      "##Product\n",
      "Name: Jade Denim TRS\n",
      "Type: Trousers\n",
      "Group: Garment Lower body\n",
      "Garment Type: Trousers\n",
      "Description: High-waisted jeans in washed superstretch denim with a zip fly and button, fake front pockets, real back pockets and super-skinny legs.\n",
      "url: https://representative-domain/product/539723\n",
      "\n",
      "##Product\n",
      "Name: Mom Fit\n",
      "Type: Trousers\n",
      "Group: Garment Lower body\n",
      "Garment Type: Trousers Denim\n",
      "Description: 5-pocket, ankle-length jeans in washed, stretch cotton denim with an extra-high waist. Slightly looser fit with straight legs. The cotton content of the jeans is partly recycled.\n",
      "url: https://representative-domain/product/714790\n",
      "\n",
      "##Product\n",
      "Name: Jade Denim Petite Trs 1\n",
      "Type: Trousers\n",
      "Group: Garment Lower body\n",
      "Garment Type: Trousers\n",
      "Description: High-waisted jeans in washed superstretch denim with a zip fly and button, fake front pockets, real back pockets and skinny legs.\n",
      "url: https://representative-domain/product/673901\n",
      "\n",
      "##Product\n",
      "Name: Maja cargo Slim HW Denim\n",
      "Type: Trousers\n",
      "Group: Garment Lower body\n",
      "Garment Type: Trousers\n",
      "Description: Jeans in washed, stretch denim with a high waist, zip fly and button, fake front pockets, real back pockets, flap leg pockets with concealed press-studs, and slim legs.\n",
      "url: https://representative-domain/product/788575\n",
      "\n",
      "##Product\n",
      "Name: Jones Denim Slim Shorts\n",
      "Type: Shorts\n",
      "Group: Garment Lower body\n",
      "Garment Type: Shorts\n",
      "Description: Long, 5-pocket denim shorts with a regular waist, zip fly and button, slightly lower crotch and slim legs.\n",
      "url: https://representative-domain/product/478992\n",
      "\n",
      "##Product\n",
      "Name: Perrie Fancy Denim TRS\n",
      "Type: Trousers\n",
      "Group: Garment Lower body\n",
      "Garment Type: Trousers\n",
      "Description: 5-pocket, ankle-length jeans in washed denim with decorative V-shaped seams at the top. Slightly looser fit with an extra high waist, zip fly and button and tapered legs.\n",
      "url: https://representative-domain/product/779659\n",
      "\n",
      "# Customer May Also Be Interested In the following\n",
      "The below candidates are recommended based on the shared purchase patterns of\n",
      "other customers in the HRM database.\n",
      "Select the best 4 to 5 product subset from the context that best match the\n",
      "time of year: Feb, 2024 and to pair with the RelevantProducts above.\n",
      "For example, even if scarfs are listed here, they may not be appropriate for a\n",
      "summer time of year so best not to include those.\n",
      "##Product\n",
      "Name: DONT USE ROLAND HOOD\n",
      "Type: Hoodie\n",
      "Group: Garment Upper body\n",
      "Garment Type: Jersey Basic\n",
      "Description: Top in sweatshirt fabric with a lined drawstring hood, kangaroo pocket, long raglan sleeves and ribbing at the cuffs and hem.\n",
      "url: https://representative-domain/product/569974\n",
      "\n",
      "##Product\n",
      "Name: PASTRY SWEATER\n",
      "Type: Sweater\n",
      "Group: Garment Upper body\n",
      "Garment Type: Knitwear\n",
      "Description: Jumper in soft, textured-knit cotton with long raglan sleeves and ribbing around the neckline, cuffs and hem.\n",
      "url: https://representative-domain/product/656401\n",
      "\n",
      "##Product\n",
      "Name: Skinny  RW Ankle Milo Zip\n",
      "Type: Trousers\n",
      "Group: Garment Lower body\n",
      "Garment Type: Trousers Denim\n",
      "Description: 5-pocket, ankle-length jeans in washed stretch denim with hard-worn details, a regular waist, zip fly and button, and skinny legs with a zip at the hems. The jeans are made partly from recycled cotton.\n",
      "url: https://representative-domain/product/682848\n",
      "\n",
      "##Product\n",
      "Name: Haven back detail\n",
      "Type: Bra\n",
      "Group: Underwear\n",
      "Garment Type: Under-, Nightwear\n",
      "Description: Push-up bra in lace and mesh with underwired, moulded, padded cups for a larger bust and fuller cleavage. Lace racer back, narrow adjustable shoulder straps, a wide mesh strap at the back and a metal fastener at the front.\n",
      "url: https://representative-domain/product/660519\n",
      "\n",
      "##Product\n",
      "Name: Bubble Bum Bandeau (1)\n",
      "Type: Bikini top\n",
      "Group: Swimwear\n",
      "Garment Type: Swimwear\n",
      "Description: Fully lined bandeau bikini top with padded cups and removable inserts. Detachable ties at the back of the neck, ties at the back, side support and a silicone trim at the top.\n",
      "url: https://representative-domain/product/642498\n",
      "\n",
      "##Product\n",
      "Name: Dixie tee\n",
      "Type: T-shirt\n",
      "Group: Garment Upper body\n",
      "Garment Type: Jersey Fancy\n",
      "Description: Short top in soft cotton jersey with short sleeves. Contrasting colour trims around the neckline and sleeves.\n",
      "url: https://representative-domain/product/598806\n",
      "\n",
      "##Product\n",
      "Name: Rylee flatform\n",
      "Type: Heeled sandals\n",
      "Group: Shoes\n",
      "Garment Type: Shoes\n",
      "Description: Sandals with imitation suede straps, an elastic heel strap and wedge heels. Satin insoles and thermoplastic rubber (TPR) soles. Platform front 2 cm, heel 6 cm.\n",
      "url: https://representative-domain/product/606711\n",
      "\n",
      "##Product\n",
      "Name: Eden SP Andes\n",
      "Type: Bra\n",
      "Group: Underwear\n",
      "Garment Type: Under-, Nightwear\n",
      "Description: Super push-up bra in lace with underwired, thickly padded cups to maximise the bust and create a fuller cleavage. Adjustable shoulder straps, a racer back and metal front fastenings.\n",
      "url: https://representative-domain/product/640129\n",
      "\n",
      "##Product\n",
      "Name: Silver lake\n",
      "Type: Sweater\n",
      "Group: Garment Upper body\n",
      "Garment Type: Knitwear\n",
      "Description: Purl-knit jumper in a cotton blend with a slightly wider neckline and 3/4-length sleeves.\n",
      "url: https://representative-domain/product/244267\n",
      "\n",
      "##Product\n",
      "Name: Leona Push Mirny\n",
      "Type: Bra\n",
      "Group: Underwear\n",
      "Garment Type: Under-, Nightwear\n",
      "Description: Push-up bra in lace and mesh with underwired, moulded, padded cups for a larger bust and fuller cleavage. Lace racer back, narrow adjustable shoulder straps, a wide mesh strap at the back and metal fastener at the front.\n",
      "url: https://representative-domain/product/511924\n",
      "\n",
      "##Product\n",
      "Name: Karin headband\n",
      "Type: Hairband\n",
      "Group: Accessories\n",
      "Garment Type: Accessories\n",
      "Description: Wide hairband in cotton jersey with a twisted detail.\n",
      "url: https://representative-domain/product/620425\n",
      "\n",
      "##Product\n",
      "Name: Survivor\n",
      "Type: Blouse\n",
      "Group: Garment Upper body\n",
      "Garment Type: Blouses\n",
      "Description: Straight-cut blouse in a crêpe weave with a collar, concealed buttons down the front and fake flap front pockets. Yoke with a pleat at the back, long sleeves with pleats and buttoned cuffs, and a straight cut hem with slits in the sides.\n",
      "url: https://representative-domain/product/662328\n",
      "\n",
      "##Product\n",
      "Name: Rosemary\n",
      "Type: Dress\n",
      "Group: Garment Full body\n",
      "Garment Type: Dresses Ladies\n",
      "Description: Short dress in woven fabric with 3/4-length sleeves with an opening and ties at the cuffs, and a gently rounded hem. Unlined.\n",
      "url: https://representative-domain/product/753724\n",
      "\n",
      "##Product\n",
      "Name: Petar Sweater(1)\n",
      "Type: Sweater\n",
      "Group: Garment Upper body\n",
      "Garment Type: Jersey Basic\n",
      "Description: Oversized top in sturdy sweatshirt fabric with dropped shoulders and ribbing around the neckline, cuffs and hem. Soft brushed inside.\n",
      "url: https://representative-domain/product/557247\n",
      "\n",
      "##Product\n",
      "Name: Lead Superskinny\n",
      "Type: Trousers\n",
      "Group: Garment Lower body\n",
      "Garment Type: Trousers\n",
      "Description: Chinos in stretch twill with a zip fly and button, side pockets, welt back pockets and skinny legs.\n",
      "url: https://representative-domain/product/731142\n",
      "\n",
      "##Product\n",
      "Name: Banks\n",
      "Type: Hoodie\n",
      "Group: Garment Upper body\n",
      "Garment Type: Jersey Basic\n",
      "Description: Long-sleeved top in sweatshirt fabric made from a cotton blend with a double-layered hood, gently dropped shoulders and ribbing at the cuffs and hem. Soft brushed inside.\n",
      "url: https://representative-domain/product/752193\n",
      "\n",
      "##Product\n",
      "Name: Malte r-neck\n",
      "Type: Sweater\n",
      "Group: Garment Upper body\n",
      "Garment Type: Knitwear\n",
      "Description: Jumper in soft, patterned, fine-knit cotton with ribbing around the neckline, cuffs and hem.\n",
      "url: https://representative-domain/product/713577\n",
      "\n",
      "##Product\n",
      "Name: Lassy Linnen LS\n",
      "Type: Sweater\n",
      "Group: Garment Upper body\n",
      "Garment Type: Jersey Basic\n",
      "Description: Long-sleeved top in airy linen jersey.\n",
      "url: https://representative-domain/product/531615\n",
      "\n",
      "##Product\n",
      "Name: Gwen Jersey Top\n",
      "Type: Vest top\n",
      "Group: Garment Upper body\n",
      "Garment Type: Dresses Ladies\n",
      "Description: Fitted top in stretch jersey with a slight sheen. V-neck with a lace trim at the top and adjustable spaghetti straps.\n",
      "url: https://representative-domain/product/671852\n",
      "\n",
      "##Product\n",
      "Name: FF Kate dress PI\n",
      "Type: Dress\n",
      "Group: Garment Full body\n",
      "Garment Type: Special Offers\n",
      "Description: Short dress in patterned stretch jersey with a round neckline, gathered seam at the waist and long raglan sleeves with gathered seams at the front. The polyester content of the dress is recycled.\n",
      "url: https://representative-domain/product/796240\n",
      "\n",
      "##Product\n",
      "Name: Brad LW BF Denim TRS\n",
      "Type: Trousers\n",
      "Group: Garment Lower body\n",
      "Garment Type: Trousers\n",
      "Description: 5-pocket, low-rise jeans in washed denim with hard-worn details, a zip fly and button, and slightly wider, tapered legs.\n",
      "url: https://representative-domain/product/615970\n",
      "\n",
      "##Product\n",
      "Name: Baby shark top\n",
      "Type: Bikini top\n",
      "Group: Swimwear\n",
      "Garment Type: Swimwear\n",
      "Description: Lined, non-wired bikini top with flounces. Adjustable shoulder straps, cups with removable inserts that shape the bust and provide good support, and a metal fastener at the back.\n",
      "url: https://representative-domain/product/861410\n",
      "\n",
      "##Product\n",
      "Name: Belle PU skirt\n",
      "Type: Skirt\n",
      "Group: Garment Lower body\n",
      "Garment Type: Skirts\n",
      "Description: Flared, calf-length skirt in imitation leather. High waist with press-studs and a concealed zip at one side, and visible seams front and back. Unlined.\n",
      "url: https://representative-domain/product/856232\n",
      "\n",
      "##Product\n",
      "Name: Burcu Styling Scarf\n",
      "Type: Scarf\n",
      "Group: Accessories\n",
      "Garment Type: Accessories\n",
      "Description: Scarf in soft, patterned satin.\n",
      "url: https://representative-domain/product/772565\n",
      "\n",
      "##Product\n",
      "Name: Girlfriend R.W Trash\n",
      "Type: Trousers\n",
      "Group: Garment Lower body\n",
      "Garment Type: Trousers Denim\n",
      "Description: 5-pocket, ankle-length jeans in washed denim with hard-worn details in a slightly looser fit. Regular waist, zip fly and button, slightly lower crotch and tapered legs with raw-edge hems.\n",
      "url: https://representative-domain/product/724904\n",
      "\n",
      "##Product\n",
      "Name: Derek\n",
      "Type: Dress\n",
      "Group: Garment Full body\n",
      "Garment Type: Dresses Ladies\n",
      "Description: Calf-length dress in woven fabric with a collar, long sleeves and wide cuffs with a slit. Narrow elasticated seam at the waist, a pleated skirt and laser-cut hem. Unlined.\n",
      "url: https://representative-domain/product/706366\n",
      "\n",
      "##Product\n",
      "Name: BISCUIT\n",
      "Type: Sweater\n",
      "Group: Garment Upper body\n",
      "Garment Type: Knitwear\n",
      "Description: Long-sleeved jumper in a soft, fine knit with ribbing around the neckline, cuffs and hem.\n",
      "url: https://representative-domain/product/657852\n",
      "\n",
      "##Product\n",
      "Name: ROLAND SLIM FIT HOOD\n",
      "Type: Hoodie\n",
      "Group: Garment Upper body\n",
      "Garment Type: Jersey Basic\n",
      "Description: Top in lightweight sweatshirt fabric with ribbed side panels and a kangaroo pocket. Jersey-lined hood with a wrapover front, and ribbing at the cuffs and hem. Brushed inside. Slim Fit.\n",
      "url: https://representative-domain/product/667769\n",
      "\n",
      "##Product\n",
      "Name: BRUNO PIQUE HOOD\n",
      "Type: Hoodie\n",
      "Group: Garment Upper body\n",
      "Garment Type: Jersey Basic\n",
      "Description: Jacket in cotton piqué with a lined, drawstring hood, zip down the front, side pockets and ribbing at the cuffs and hem. Regular fit.\n",
      "url: https://representative-domain/product/622370\n",
      "\n",
      "##Product\n",
      "Name: Fav regular polo(1)\n",
      "Type: Polo shirt\n",
      "Group: Garment Upper body\n",
      "Garment Type: Jersey Fancy\n",
      "Description: Polo shirt in cotton piqué with a ribbed collar, button placket, short sleeves with ribbed trims, and slits in the sides.\n",
      "url: https://representative-domain/product/816759\n",
      "\n",
      "   === End Prompt ===\n",
      "   \n"
     ]
    }
   ],
   "execution_count": 28
  },
  {
   "cell_type": "markdown",
   "metadata": {
    "collapsed": false,
    "id": "8G_vdFviekeI"
   },
   "source": [
    "Feel free to experiment and try more!"
   ]
  },
  {
   "cell_type": "code",
   "metadata": {
    "id": "qeOts3Q4ZACL",
    "ExecuteTime": {
     "end_time": "2024-06-25T15:22:28.848411Z",
     "start_time": "2024-06-25T15:22:28.846498Z"
    }
   },
   "source": "#print(chain.invoke({'customerInterests':\"western boots\", 'customerId':CUSTOMER_ID, 'customerName':'Alex Smith', 'timeOfYear':'July, 2024'}))",
   "outputs": [],
   "execution_count": 29
  },
  {
   "cell_type": "markdown",
   "metadata": {
    "collapsed": false,
    "id": "1IU_gedrekeI"
   },
   "source": [
    "### Demo App\n",
    "Now let’s use the above tools to create a demo app with Gradio.  We will need to make a couple more functions, but otherwise easy to fire up from a Notebook!"
   ]
  },
  {
   "cell_type": "code",
   "metadata": {
    "id": "A1F0ve3cekeI",
    "ExecuteTime": {
     "end_time": "2024-06-25T15:22:30.272583Z",
     "start_time": "2024-06-25T15:22:30.269709Z"
    }
   },
   "source": [
    "# create multiple demo examples to try\n",
    "examples = [\n",
    "    [\n",
    "        CUSTOMER_ID,\n",
    "        'June, 2024',\n",
    "        'Alex Smith',\n",
    "        'denim jeans'\n",
    "    ],\n",
    "    [\n",
    "        CUSTOMER_ID,\n",
    "        'July, 2024',\n",
    "        'Alex Smith',\n",
    "        'western boots'\n",
    "    ],\n",
    "    [\n",
    "        '819f4eab1fd76b932fd403ae9f427de8eb9c5b64411d763bb26b5c8c3c30f16f',\n",
    "        'June, 2024',\n",
    "        'Robin Fischer',\n",
    "        'denim jeans'\n",
    "    ],\n",
    "    [\n",
    "        '44b0898ecce6cc1268dfdb0f91e053db014b973f67e34ed8ae28211410910693',\n",
    "        'Feb, 2024',\n",
    "        'Chris Johnson',\n",
    "        'Oversized Sweaters'\n",
    "    ],\n",
    "    [\n",
    "        '819f4eab1fd76b932fd403ae9f427de8eb9c5b64411d763bb26b5c8c3c30f16f',\n",
    "        'Feb, 2024',\n",
    "        'Robin Fischer',\n",
    "        'denim jeans'\n",
    "    ],\n",
    "    [\n",
    "        CUSTOMER_ID,\n",
    "        'Feb, 2024',\n",
    "        'Alex Smith',\n",
    "        'oversized sweaters'\n",
    "    ],\n",
    "]"
   ],
   "outputs": [],
   "execution_count": 30
  },
  {
   "cell_type": "code",
   "metadata": {
    "colab": {
     "base_uri": "https://localhost:8080/",
     "height": 626
    },
    "id": "XsBcFQLlekeI",
    "outputId": "ade42c47-69ba-466c-93a6-c7701448db27",
    "ExecuteTime": {
     "end_time": "2024-06-25T15:24:22.974423Z",
     "start_time": "2024-06-25T15:22:31.116344Z"
    }
   },
   "source": [
    "import gradio as gr\n",
    "\n",
    "def message_generator(*x):\n",
    "    return chain.invoke({'customerInterests':x[3],\n",
    "                         'customerId':x[0],\n",
    "                         'customerName':x[2],\n",
    "                         'timeOfYear': x[1]})\n",
    "\n",
    "customer_id = gr.Textbox(value=CUSTOMER_ID, label=\"Customer ID\")\n",
    "time_of_year = gr.Textbox(value=\"June, 2024\", label=\"Time Of Year\")\n",
    "search_prompt_txt = gr.Textbox(value='denim jeans', label=\"Customer Interests(s)\")\n",
    "customer_name = gr.Textbox(value='Alex Smith', label=\"Customer Name\")\n",
    "message_result = gr.Markdown( label=\"Message\")\n",
    "\n",
    "demo = gr.Interface(fn=message_generator,\n",
    "                    inputs=[customer_id, time_of_year, customer_name, search_prompt_txt],\n",
    "                    outputs=message_result,\n",
    "                    examples=examples,\n",
    "                    title=\"🪄 Message Generator 🥳\")\n",
    "\n",
    "if not os.getenv('AUTOMATED_RUN') == \"true\":\n",
    "    demo.launch(share=True, debug=True)"
   ],
   "outputs": [
    {
     "name": "stdout",
     "output_type": "stream",
     "text": [
      "Running on local URL:  http://127.0.0.1:7861\n",
      "IMPORTANT: You are using gradio version 4.20.0, however version 4.29.0 is available, please upgrade.\n",
      "--------\n",
      "\n",
      "Could not create share link. Missing file: /Users/zachblumenfeld/opt/anaconda3/envs/genai-workshop/lib/python3.10/site-packages/gradio/frpc_darwin_arm64_v0.2. \n",
      "\n",
      "Please check your internet connection. This can happen if your antivirus software blocks the download of this file. You can install manually by following these steps: \n",
      "\n",
      "1. Download this file: https://cdn-media.huggingface.co/frpc-gradio-0.2/frpc_darwin_arm64\n",
      "2. Rename the downloaded file to: frpc_darwin_arm64_v0.2\n",
      "3. Move the file to this location: /Users/zachblumenfeld/opt/anaconda3/envs/genai-workshop/lib/python3.10/site-packages/gradio\n"
     ]
    },
    {
     "name": "stderr",
     "output_type": "stream",
     "text": [
      "\n"
     ]
    },
    {
     "data": {
      "text/plain": [
       "<IPython.core.display.HTML object>"
      ],
      "text/html": [
       "<div><iframe src=\"http://127.0.0.1:7861/\" width=\"100%\" height=\"500\" allow=\"autoplay; camera; microphone; clipboard-read; clipboard-write;\" frameborder=\"0\" allowfullscreen></iframe></div>"
      ]
     },
     "metadata": {},
     "output_type": "display_data"
    },
    {
     "name": "stdout",
     "output_type": "stream",
     "text": [
      "Keyboard interruption in main thread... closing server.\n",
      "Killing tunnel 127.0.0.1:7861 <> None\n"
     ]
    },
    {
     "data": {
      "text/plain": []
     },
     "execution_count": 31,
     "metadata": {},
     "output_type": "execute_result"
    }
   ],
   "execution_count": 31
  },
  {
   "cell_type": "code",
   "execution_count": null,
   "metadata": {
    "id": "z_qwUiTZA59W"
   },
   "outputs": [],
   "source": []
  }
 ],
 "metadata": {
  "colab": {
   "provenance": [],
   "toc_visible": true
  },
  "kernelspec": {
   "display_name": "Python 3",
   "language": "python",
   "name": "python3"
  },
  "language_info": {
   "codemirror_mode": {
    "name": "ipython",
    "version": 2
   },
   "file_extension": ".py",
   "mimetype": "text/x-python",
   "name": "python",
   "nbconvert_exporter": "python",
   "pygments_lexer": "ipython2",
   "version": "2.7.6"
  }
 },
 "nbformat": 4,
 "nbformat_minor": 0
}
